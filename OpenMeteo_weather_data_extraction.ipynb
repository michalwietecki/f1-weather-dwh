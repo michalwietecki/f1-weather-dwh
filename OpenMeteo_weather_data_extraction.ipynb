{
 "cells": [
  {
   "cell_type": "code",
   "execution_count": 4,
   "id": "37181e21",
   "metadata": {},
   "outputs": [
    {
     "name": "stdout",
     "output_type": "stream",
     "text": [
      "Collecting requests-cache\n",
      "  Downloading requests_cache-1.2.1-py3-none-any.whl.metadata (9.9 kB)\n",
      "Collecting retry-requests\n",
      "  Downloading retry_requests-2.0.0-py3-none-any.whl.metadata (2.6 kB)\n",
      "Requirement already satisfied: numpy in c:\\users\\basiu\\anaconda3\\lib\\site-packages (1.26.4)\n",
      "Requirement already satisfied: pandas in c:\\users\\basiu\\anaconda3\\lib\\site-packages (1.4.2)\n",
      "Requirement already satisfied: attrs>=21.2 in c:\\users\\basiu\\anaconda3\\lib\\site-packages (from requests-cache) (21.4.0)\n",
      "Collecting cattrs>=22.2 (from requests-cache)\n",
      "  Downloading cattrs-24.1.3-py3-none-any.whl.metadata (8.4 kB)\n",
      "Requirement already satisfied: platformdirs>=2.5 in c:\\users\\basiu\\anaconda3\\lib\\site-packages (from requests-cache) (4.3.6)\n",
      "Requirement already satisfied: requests>=2.22 in c:\\users\\basiu\\anaconda3\\lib\\site-packages (from requests-cache) (2.27.1)\n",
      "Collecting url-normalize>=1.4 (from requests-cache)\n",
      "  Downloading url_normalize-2.2.1-py3-none-any.whl.metadata (5.6 kB)\n",
      "Requirement already satisfied: urllib3>=1.25.5 in c:\\users\\basiu\\anaconda3\\lib\\site-packages (from requests-cache) (1.26.9)\n",
      "Requirement already satisfied: python-dateutil>=2.8.1 in c:\\users\\basiu\\anaconda3\\lib\\site-packages (from pandas) (2.8.2)\n",
      "Requirement already satisfied: pytz>=2020.1 in c:\\users\\basiu\\anaconda3\\lib\\site-packages (from pandas) (2021.3)\n",
      "Collecting attrs>=21.2 (from requests-cache)\n",
      "  Downloading attrs-25.3.0-py3-none-any.whl.metadata (10 kB)\n",
      "Collecting exceptiongroup>=1.1.1 (from cattrs>=22.2->requests-cache)\n",
      "  Downloading exceptiongroup-1.2.2-py3-none-any.whl.metadata (6.6 kB)\n",
      "Requirement already satisfied: typing-extensions!=4.6.3,>=4.1.0 in c:\\users\\basiu\\anaconda3\\lib\\site-packages (from cattrs>=22.2->requests-cache) (4.12.2)\n",
      "Requirement already satisfied: six>=1.5 in c:\\users\\basiu\\anaconda3\\lib\\site-packages (from python-dateutil>=2.8.1->pandas) (1.16.0)\n",
      "Requirement already satisfied: certifi>=2017.4.17 in c:\\users\\basiu\\anaconda3\\lib\\site-packages (from requests>=2.22->requests-cache) (2025.1.31)\n",
      "Requirement already satisfied: charset-normalizer~=2.0.0 in c:\\users\\basiu\\anaconda3\\lib\\site-packages (from requests>=2.22->requests-cache) (2.0.4)\n",
      "Requirement already satisfied: idna<4,>=2.5 in c:\\users\\basiu\\anaconda3\\lib\\site-packages (from requests>=2.22->requests-cache) (3.3)\n",
      "Downloading requests_cache-1.2.1-py3-none-any.whl (61 kB)\n",
      "Downloading retry_requests-2.0.0-py3-none-any.whl (15 kB)\n",
      "Downloading cattrs-24.1.3-py3-none-any.whl (66 kB)\n",
      "Downloading attrs-25.3.0-py3-none-any.whl (63 kB)\n",
      "Downloading url_normalize-2.2.1-py3-none-any.whl (14 kB)\n",
      "Downloading exceptiongroup-1.2.2-py3-none-any.whl (16 kB)\n",
      "Installing collected packages: url-normalize, exceptiongroup, attrs, retry-requests, cattrs, requests-cache\n",
      "  Attempting uninstall: attrs\n",
      "    Found existing installation: attrs 21.4.0\n",
      "    Uninstalling attrs-21.4.0:\n",
      "      Successfully uninstalled attrs-21.4.0\n",
      "Successfully installed attrs-25.3.0 cattrs-24.1.3 exceptiongroup-1.2.2 requests-cache-1.2.1 retry-requests-2.0.0 url-normalize-2.2.1\n"
     ]
    },
    {
     "name": "stderr",
     "output_type": "stream",
     "text": [
      "ERROR: pip's dependency resolver does not currently take into account all the packages that are installed. This behaviour is the source of the following dependency conflicts.\n",
      "spyder 5.1.5 requires pyqt5<5.13, which is not installed.\n",
      "spyder 5.1.5 requires pyqtwebengine<5.13, which is not installed.\n",
      "\n",
      "[notice] A new release of pip is available: 24.3.1 -> 25.1.1\n",
      "[notice] To update, run: python.exe -m pip install --upgrade pip\n"
     ]
    },
    {
     "name": "stdout",
     "output_type": "stream",
     "text": [
      "Requirement already satisfied: openmeteo-requests in c:\\users\\basiu\\anaconda3\\lib\\site-packages (1.4.0)\n",
      "Requirement already satisfied: openmeteo-sdk>=1.4.0 in c:\\users\\basiu\\anaconda3\\lib\\site-packages (from openmeteo-requests) (1.20.0)\n",
      "Requirement already satisfied: requests in c:\\users\\basiu\\anaconda3\\lib\\site-packages (from openmeteo-requests) (2.27.1)\n",
      "Requirement already satisfied: flatbuffers==25.2.10 in c:\\users\\basiu\\anaconda3\\lib\\site-packages (from openmeteo-sdk>=1.4.0->openmeteo-requests) (25.2.10)\n",
      "Requirement already satisfied: urllib3<1.27,>=1.21.1 in c:\\users\\basiu\\anaconda3\\lib\\site-packages (from requests->openmeteo-requests) (1.26.9)\n",
      "Requirement already satisfied: certifi>=2017.4.17 in c:\\users\\basiu\\anaconda3\\lib\\site-packages (from requests->openmeteo-requests) (2025.1.31)\n",
      "Requirement already satisfied: charset-normalizer~=2.0.0 in c:\\users\\basiu\\anaconda3\\lib\\site-packages (from requests->openmeteo-requests) (2.0.4)\n",
      "Requirement already satisfied: idna<4,>=2.5 in c:\\users\\basiu\\anaconda3\\lib\\site-packages (from requests->openmeteo-requests) (3.3)\n"
     ]
    },
    {
     "name": "stderr",
     "output_type": "stream",
     "text": [
      "\n",
      "[notice] A new release of pip is available: 24.3.1 -> 25.1.1\n",
      "[notice] To update, run: python.exe -m pip install --upgrade pip\n"
     ]
    },
    {
     "name": "stdout",
     "output_type": "stream",
     "text": [
      "Requirement already satisfied: requests-cache in c:\\users\\basiu\\anaconda3\\lib\\site-packages (1.2.1)\n",
      "Requirement already satisfied: retry-requests in c:\\users\\basiu\\anaconda3\\lib\\site-packages (2.0.0)\n",
      "Requirement already satisfied: attrs>=21.2 in c:\\users\\basiu\\anaconda3\\lib\\site-packages (from requests-cache) (25.3.0)"
     ]
    },
    {
     "name": "stderr",
     "output_type": "stream",
     "text": [
      "\n",
      "[notice] A new release of pip is available: 24.3.1 -> 25.1.1\n",
      "[notice] To update, run: python.exe -m pip install --upgrade pip\n"
     ]
    },
    {
     "name": "stdout",
     "output_type": "stream",
     "text": [
      "\n",
      "Requirement already satisfied: cattrs>=22.2 in c:\\users\\basiu\\anaconda3\\lib\\site-packages (from requests-cache) (24.1.3)\n",
      "Requirement already satisfied: platformdirs>=2.5 in c:\\users\\basiu\\anaconda3\\lib\\site-packages (from requests-cache) (4.3.6)\n",
      "Requirement already satisfied: requests>=2.22 in c:\\users\\basiu\\anaconda3\\lib\\site-packages (from requests-cache) (2.27.1)\n",
      "Requirement already satisfied: url-normalize>=1.4 in c:\\users\\basiu\\anaconda3\\lib\\site-packages (from requests-cache) (2.2.1)\n",
      "Requirement already satisfied: urllib3>=1.25.5 in c:\\users\\basiu\\anaconda3\\lib\\site-packages (from requests-cache) (1.26.9)\n",
      "Requirement already satisfied: exceptiongroup>=1.1.1 in c:\\users\\basiu\\anaconda3\\lib\\site-packages (from cattrs>=22.2->requests-cache) (1.2.2)\n",
      "Requirement already satisfied: typing-extensions!=4.6.3,>=4.1.0 in c:\\users\\basiu\\anaconda3\\lib\\site-packages (from cattrs>=22.2->requests-cache) (4.12.2)\n",
      "Requirement already satisfied: certifi>=2017.4.17 in c:\\users\\basiu\\anaconda3\\lib\\site-packages (from requests>=2.22->requests-cache) (2025.1.31)\n",
      "Requirement already satisfied: charset-normalizer~=2.0.0 in c:\\users\\basiu\\anaconda3\\lib\\site-packages (from requests>=2.22->requests-cache) (2.0.4)\n",
      "Requirement already satisfied: idna<4,>=2.5 in c:\\users\\basiu\\anaconda3\\lib\\site-packages (from requests>=2.22->requests-cache) (3.3)\n"
     ]
    }
   ],
   "source": [
    "!pip install openmeteo-requests\n",
    "!pip install requests-cache retry-requests"
   ]
  },
  {
   "cell_type": "code",
   "execution_count": 5,
   "id": "f32b4518",
   "metadata": {},
   "outputs": [
    {
     "name": "stdout",
     "output_type": "stream",
     "text": [
      "Coordinates 52.5483283996582°N 13.407821655273438°E\n",
      "Elevation 38.0 m asl\n",
      "Timezone NoneNone\n",
      "Timezone difference to GMT+0 0 s\n",
      "                         date  temperature_2m  rain  wind_speed_100m  \\\n",
      "0   2025-04-24 00:00:00+00:00        9.958500   0.0        24.456827   \n",
      "1   2025-04-24 01:00:00+00:00       10.158501   0.0        25.056231   \n",
      "2   2025-04-24 02:00:00+00:00        9.508500   0.0        25.928123   \n",
      "3   2025-04-24 03:00:00+00:00        9.058500   0.0        25.455843   \n",
      "4   2025-04-24 04:00:00+00:00        8.558500   0.0        24.316660   \n",
      "..                        ...             ...   ...              ...   \n",
      "355 2025-05-08 19:00:00+00:00       13.708500   0.0         8.707237   \n",
      "356 2025-05-08 20:00:00+00:00       12.458500   0.0        11.236671   \n",
      "357 2025-05-08 21:00:00+00:00       11.358500   0.0        14.843180   \n",
      "358 2025-05-08 22:00:00+00:00       10.458500   0.0        14.589996   \n",
      "359 2025-05-08 23:00:00+00:00        9.258500   0.0        10.373061   \n",
      "\n",
      "     relative_humidity_2m  \n",
      "0               85.321640  \n",
      "1               81.360878  \n",
      "2               81.834877  \n",
      "3               83.197502  \n",
      "4               84.584442  \n",
      "..                    ...  \n",
      "355             36.436878  \n",
      "356             43.297363  \n",
      "357             47.917053  \n",
      "358             49.064167  \n",
      "359             54.729885  \n",
      "\n",
      "[360 rows x 5 columns]\n"
     ]
    }
   ],
   "source": [
    "import openmeteo_requests\n",
    "\n",
    "import pandas as pd\n",
    "import requests_cache\n",
    "from retry_requests import retry\n",
    "\n",
    "# Setup the Open-Meteo API client with cache and retry on error\n",
    "cache_session = requests_cache.CachedSession('.cache', expire_after = -1)\n",
    "retry_session = retry(cache_session, retries = 5, backoff_factor = 0.2)\n",
    "openmeteo = openmeteo_requests.Client(session = retry_session)\n",
    "\n",
    "# Make sure all required weather variables are listed here\n",
    "# The order of variables in hourly or daily is important to assign them correctly below\n",
    "url = \"https://archive-api.open-meteo.com/v1/archive\"\n",
    "params = {\n",
    "\t\"latitude\": 52.52,\n",
    "\t\"longitude\": 13.41,\n",
    "\t\"start_date\": \"2025-04-24\",\n",
    "\t\"end_date\": \"2025-05-08\",\n",
    "\t\"hourly\": [\"temperature_2m\", \"rain\", \"wind_speed_100m\", \"relative_humidity_2m\"]\n",
    "}\n",
    "responses = openmeteo.weather_api(url, params=params)\n",
    "\n",
    "# Process first location. Add a for-loop for multiple locations or weather models\n",
    "response = responses[0]\n",
    "print(f\"Coordinates {response.Latitude()}°N {response.Longitude()}°E\")\n",
    "print(f\"Elevation {response.Elevation()} m asl\")\n",
    "print(f\"Timezone {response.Timezone()}{response.TimezoneAbbreviation()}\")\n",
    "print(f\"Timezone difference to GMT+0 {response.UtcOffsetSeconds()} s\")\n",
    "\n",
    "# Process hourly data. The order of variables needs to be the same as requested.\n",
    "hourly = response.Hourly()\n",
    "hourly_temperature_2m = hourly.Variables(0).ValuesAsNumpy()\n",
    "hourly_rain = hourly.Variables(1).ValuesAsNumpy()\n",
    "hourly_wind_speed_100m = hourly.Variables(2).ValuesAsNumpy()\n",
    "hourly_relative_humidity_2m = hourly.Variables(3).ValuesAsNumpy()\n",
    "\n",
    "hourly_data = {\"date\": pd.date_range(\n",
    "\tstart = pd.to_datetime(hourly.Time(), unit = \"s\", utc = True),\n",
    "\tend = pd.to_datetime(hourly.TimeEnd(), unit = \"s\", utc = True),\n",
    "\tfreq = pd.Timedelta(seconds = hourly.Interval()),\n",
    "\tinclusive = \"left\"\n",
    ")}\n",
    "\n",
    "hourly_data[\"temperature_2m\"] = hourly_temperature_2m\n",
    "hourly_data[\"rain\"] = hourly_rain\n",
    "hourly_data[\"wind_speed_100m\"] = hourly_wind_speed_100m\n",
    "hourly_data[\"relative_humidity_2m\"] = hourly_relative_humidity_2m\n",
    "\n",
    "hourly_dataframe = pd.DataFrame(data = hourly_data)\n",
    "print(hourly_dataframe)"
   ]
  }
 ],
 "metadata": {
  "kernelspec": {
   "display_name": "Python 3 (ipykernel)",
   "language": "python",
   "name": "python3"
  },
  "language_info": {
   "codemirror_mode": {
    "name": "ipython",
    "version": 3
   },
   "file_extension": ".py",
   "mimetype": "text/x-python",
   "name": "python",
   "nbconvert_exporter": "python",
   "pygments_lexer": "ipython3",
   "version": "3.9.12"
  }
 },
 "nbformat": 4,
 "nbformat_minor": 5
}
