{
 "cells": [
  {
   "cell_type": "code",
   "execution_count": 32,
   "id": "b3709001-83e0-4abe-96f8-1b199e3ffe03",
   "metadata": {},
   "outputs": [],
   "source": [
    "from bs4 import BeautifulSoup\n",
    "import requests\n",
    "import pandas as pd"
   ]
  },
  {
   "cell_type": "markdown",
   "id": "3f7cc807-b92d-4a13-98c0-9c0ab9834199",
   "metadata": {},
   "source": [
    "### importing the list of all formula one races from wikipedia"
   ]
  },
  {
   "cell_type": "code",
   "execution_count": 2,
   "id": "a140b69b-50f6-4266-9ae5-f170e07b0ddc",
   "metadata": {},
   "outputs": [],
   "source": [
    "url = \"https://en.wikipedia.org/wiki/List_of_Formula_One_circuits\"\n",
    "page = requests.get(url)"
   ]
  },
  {
   "cell_type": "code",
   "execution_count": 41,
   "id": "7c5afcf7-a2c8-4e16-a7cd-e65d333c9db7",
   "metadata": {},
   "outputs": [],
   "source": [
    "soup = BeautifulSoup(page.text, \"html\")\n",
    "# print(soup.prettify())"
   ]
  },
  {
   "cell_type": "code",
   "execution_count": 42,
   "id": "c3eab087-c4b7-4361-a958-7d919d814bab",
   "metadata": {},
   "outputs": [],
   "source": [
    "tables = soup.find_all(\"table\")\n",
    "# print(tables)"
   ]
  },
  {
   "cell_type": "code",
   "execution_count": 43,
   "id": "9d85a91a-a91f-408c-afbe-4b82c690f092",
   "metadata": {},
   "outputs": [
    {
     "name": "stdout",
     "output_type": "stream",
     "text": [
      "4\n"
     ]
    }
   ],
   "source": [
    "print(len(tables))"
   ]
  },
  {
   "cell_type": "code",
   "execution_count": 44,
   "id": "1e4cbcb6-1792-47ee-b352-8c3fe7afe6b2",
   "metadata": {},
   "outputs": [
    {
     "name": "stdout",
     "output_type": "stream",
     "text": [
      "Table: <table>\n",
      "ID: None\n",
      "Class: ['sidebar', 'sidebar-collapse', 'nomobile', 'nowraplinks', 'plainlist']\n",
      "Table: <table>\n",
      "ID: None\n",
      "Class: ['wikitable']\n",
      "Table: <table>\n",
      "ID: None\n",
      "Class: ['wikitable', 'sortable']\n",
      "Table: <table>\n",
      "ID: None\n",
      "Class: ['nowraplinks', 'mw-collapsible', 'autocollapse', 'navbox-inner']\n"
     ]
    }
   ],
   "source": [
    "for table in tables:\n",
    "    print(f\"Table: <{table.name}>\")\n",
    "    print(f\"ID: {table.get('id')}\")\n",
    "    print(f\"Class: {table.get('class')}\")"
   ]
  },
  {
   "cell_type": "code",
   "execution_count": 46,
   "id": "7033ad42-f3d1-4a7c-9252-995e3209291e",
   "metadata": {},
   "outputs": [],
   "source": [
    "# print(tables[2])"
   ]
  },
  {
   "cell_type": "markdown",
   "id": "7900691f-e185-4c13-b341-772aeb6e2d99",
   "metadata": {},
   "source": [
    "we got the table we were looking for"
   ]
  },
  {
   "cell_type": "code",
   "execution_count": 47,
   "id": "9db29286-5e51-4378-afcc-68a2718bf308",
   "metadata": {
    "scrolled": true
   },
   "outputs": [
    {
     "name": "stdout",
     "output_type": "stream",
     "text": [
      "['Circuit', 'Map', 'Type', 'Direction', 'Location', 'Country', 'Last length used', 'Turns', 'Grands Prix', 'Season(s)', 'Grands Prix held']\n"
     ]
    }
   ],
   "source": [
    "circuts = tables[2]\n",
    "columns = circuts.find_all(\"th\")\n",
    "column_names = [title.text.strip() for title in columns]\n",
    "print(column_names)"
   ]
  },
  {
   "cell_type": "markdown",
   "id": "49832cae-dc79-4617-a5aa-637f9d9a5145",
   "metadata": {},
   "source": [
    "we won't use \"Map\" column as it is an Image and it's useless for our purpose"
   ]
  },
  {
   "cell_type": "code",
   "execution_count": 48,
   "id": "559be4b6-611d-497f-9a40-f535798e3dc0",
   "metadata": {},
   "outputs": [],
   "source": [
    "column_names = [name for name in column_names if name != \"Map\"]"
   ]
  },
  {
   "cell_type": "markdown",
   "id": "f14c154d-6a8a-4256-b9f4-08756695d08e",
   "metadata": {},
   "source": [
    "we have the column names, let's move on to the data and put it in a dataframe"
   ]
  },
  {
   "cell_type": "code",
   "execution_count": 49,
   "id": "06af4be1-636b-4a1b-849d-6b9e68de2fdc",
   "metadata": {},
   "outputs": [
    {
     "data": {
      "text/html": [
       "<div>\n",
       "<style scoped>\n",
       "    .dataframe tbody tr th:only-of-type {\n",
       "        vertical-align: middle;\n",
       "    }\n",
       "\n",
       "    .dataframe tbody tr th {\n",
       "        vertical-align: top;\n",
       "    }\n",
       "\n",
       "    .dataframe thead th {\n",
       "        text-align: right;\n",
       "    }\n",
       "</style>\n",
       "<table border=\"1\" class=\"dataframe\">\n",
       "  <thead>\n",
       "    <tr style=\"text-align: right;\">\n",
       "      <th></th>\n",
       "      <th>Circuit</th>\n",
       "      <th>Type</th>\n",
       "      <th>Direction</th>\n",
       "      <th>Location</th>\n",
       "      <th>Country</th>\n",
       "      <th>Last length used</th>\n",
       "      <th>Turns</th>\n",
       "      <th>Grands Prix</th>\n",
       "      <th>Season(s)</th>\n",
       "      <th>Grands Prix held</th>\n",
       "    </tr>\n",
       "  </thead>\n",
       "  <tbody>\n",
       "  </tbody>\n",
       "</table>\n",
       "</div>"
      ],
      "text/plain": [
       "Empty DataFrame\n",
       "Columns: [Circuit, Type, Direction, Location, Country, Last length used, Turns, Grands Prix, Season(s), Grands Prix held]\n",
       "Index: []"
      ]
     },
     "execution_count": 49,
     "metadata": {},
     "output_type": "execute_result"
    }
   ],
   "source": [
    "df = pd.DataFrame(columns = column_names)\n",
    "df"
   ]
  },
  {
   "cell_type": "code",
   "execution_count": 50,
   "id": "56c4c8fe-64f3-4ca5-bfd6-fe96aaa1918b",
   "metadata": {},
   "outputs": [],
   "source": [
    "data = circuts.find_all(\"tr\")\n",
    "for row in data[1:]:\n",
    "    current_row = row.find_all(\"td\")\n",
    "    current_row_data = [current_row[k].text.strip() for k in range(len(current_row)) if k != 1] # omit image data from Map column\n",
    "    df.loc[len(df)] = current_row_data"
   ]
  },
  {
   "cell_type": "code",
   "execution_count": 51,
   "id": "0de7c5ef-6d68-4aca-8d0b-774ca107fe05",
   "metadata": {},
   "outputs": [
    {
     "data": {
      "text/html": [
       "<div>\n",
       "<style scoped>\n",
       "    .dataframe tbody tr th:only-of-type {\n",
       "        vertical-align: middle;\n",
       "    }\n",
       "\n",
       "    .dataframe tbody tr th {\n",
       "        vertical-align: top;\n",
       "    }\n",
       "\n",
       "    .dataframe thead th {\n",
       "        text-align: right;\n",
       "    }\n",
       "</style>\n",
       "<table border=\"1\" class=\"dataframe\">\n",
       "  <thead>\n",
       "    <tr style=\"text-align: right;\">\n",
       "      <th></th>\n",
       "      <th>Circuit</th>\n",
       "      <th>Type</th>\n",
       "      <th>Direction</th>\n",
       "      <th>Location</th>\n",
       "      <th>Country</th>\n",
       "      <th>Last length used</th>\n",
       "      <th>Turns</th>\n",
       "      <th>Grands Prix</th>\n",
       "      <th>Season(s)</th>\n",
       "      <th>Grands Prix held</th>\n",
       "    </tr>\n",
       "  </thead>\n",
       "  <tbody>\n",
       "    <tr>\n",
       "      <th>0</th>\n",
       "      <td>Adelaide Street Circuit</td>\n",
       "      <td>Street circuit</td>\n",
       "      <td>Clockwise</td>\n",
       "      <td>Adelaide</td>\n",
       "      <td>Australia</td>\n",
       "      <td>3.780 km (2.349 mi)</td>\n",
       "      <td>16</td>\n",
       "      <td>Australian Grand Prix</td>\n",
       "      <td>1985–1995</td>\n",
       "      <td>11</td>\n",
       "    </tr>\n",
       "    <tr>\n",
       "      <th>1</th>\n",
       "      <td>Ain-Diab Circuit</td>\n",
       "      <td>Road circuit</td>\n",
       "      <td>Clockwise</td>\n",
       "      <td>Casablanca</td>\n",
       "      <td>Morocco</td>\n",
       "      <td>7.618 km (4.734 mi)</td>\n",
       "      <td>18</td>\n",
       "      <td>Moroccan Grand Prix</td>\n",
       "      <td>1958</td>\n",
       "      <td>1</td>\n",
       "    </tr>\n",
       "    <tr>\n",
       "      <th>2</th>\n",
       "      <td>Aintree Motor Racing Circuit</td>\n",
       "      <td>Road circuit</td>\n",
       "      <td>Clockwise</td>\n",
       "      <td>Aintree</td>\n",
       "      <td>United Kingdom</td>\n",
       "      <td>4.828 km (3.000 mi)</td>\n",
       "      <td>12</td>\n",
       "      <td>British Grand Prix</td>\n",
       "      <td>1955, 1957, 1959, 1961–1962</td>\n",
       "      <td>5</td>\n",
       "    </tr>\n",
       "    <tr>\n",
       "      <th>3</th>\n",
       "      <td>Albert Park Circuit *</td>\n",
       "      <td>Street circuit</td>\n",
       "      <td>Clockwise</td>\n",
       "      <td>Melbourne</td>\n",
       "      <td>Australia</td>\n",
       "      <td>5.278 km (3.280 mi)</td>\n",
       "      <td>16</td>\n",
       "      <td>Australian Grand Prix</td>\n",
       "      <td>1996–2019, 2022–2025</td>\n",
       "      <td>28</td>\n",
       "    </tr>\n",
       "    <tr>\n",
       "      <th>4</th>\n",
       "      <td>Algarve International Circuit</td>\n",
       "      <td>Race circuit</td>\n",
       "      <td>Clockwise</td>\n",
       "      <td>Portimão</td>\n",
       "      <td>Portugal</td>\n",
       "      <td>4.653 km (2.891 mi)</td>\n",
       "      <td>15</td>\n",
       "      <td>Portuguese Grand Prix</td>\n",
       "      <td>2020–2021</td>\n",
       "      <td>2</td>\n",
       "    </tr>\n",
       "    <tr>\n",
       "      <th>...</th>\n",
       "      <td>...</td>\n",
       "      <td>...</td>\n",
       "      <td>...</td>\n",
       "      <td>...</td>\n",
       "      <td>...</td>\n",
       "      <td>...</td>\n",
       "      <td>...</td>\n",
       "      <td>...</td>\n",
       "      <td>...</td>\n",
       "      <td>...</td>\n",
       "    </tr>\n",
       "    <tr>\n",
       "      <th>72</th>\n",
       "      <td>TI Circuit Aida</td>\n",
       "      <td>Race circuit</td>\n",
       "      <td>Clockwise</td>\n",
       "      <td>Mimasaka</td>\n",
       "      <td>Japan</td>\n",
       "      <td>3.703 km (2.301 mi)</td>\n",
       "      <td>11</td>\n",
       "      <td>Pacific Grand Prix</td>\n",
       "      <td>1994–1995</td>\n",
       "      <td>2</td>\n",
       "    </tr>\n",
       "    <tr>\n",
       "      <th>73</th>\n",
       "      <td>Valencia Street Circuit</td>\n",
       "      <td>Street circuit</td>\n",
       "      <td>Clockwise</td>\n",
       "      <td>Valencia</td>\n",
       "      <td>Spain</td>\n",
       "      <td>5.419 km (3.367 mi)</td>\n",
       "      <td>25</td>\n",
       "      <td>European Grand Prix</td>\n",
       "      <td>2008–2012</td>\n",
       "      <td>5</td>\n",
       "    </tr>\n",
       "    <tr>\n",
       "      <th>74</th>\n",
       "      <td>Watkins Glen International</td>\n",
       "      <td>Race circuit</td>\n",
       "      <td>Clockwise</td>\n",
       "      <td>Watkins Glen</td>\n",
       "      <td>United States</td>\n",
       "      <td>5.430 km (3.374 mi)</td>\n",
       "      <td>10</td>\n",
       "      <td>United States Grand Prix</td>\n",
       "      <td>1961–1980</td>\n",
       "      <td>20</td>\n",
       "    </tr>\n",
       "    <tr>\n",
       "      <th>75</th>\n",
       "      <td>Yas Marina Circuit *</td>\n",
       "      <td>Race circuit</td>\n",
       "      <td>Anti-clockwise</td>\n",
       "      <td>Abu Dhabi</td>\n",
       "      <td>United Arab Emirates</td>\n",
       "      <td>5.281 km (3.281 mi)</td>\n",
       "      <td>15</td>\n",
       "      <td>Abu Dhabi Grand Prix</td>\n",
       "      <td>2009–2024</td>\n",
       "      <td>16</td>\n",
       "    </tr>\n",
       "    <tr>\n",
       "      <th>76</th>\n",
       "      <td>Zeltweg Airfield</td>\n",
       "      <td>Road circuit</td>\n",
       "      <td>Clockwise</td>\n",
       "      <td>Zeltweg</td>\n",
       "      <td>Austria</td>\n",
       "      <td>3.186 km (1.980 mi)</td>\n",
       "      <td>4</td>\n",
       "      <td>Austrian Grand Prix</td>\n",
       "      <td>1964</td>\n",
       "      <td>1</td>\n",
       "    </tr>\n",
       "  </tbody>\n",
       "</table>\n",
       "<p>77 rows × 10 columns</p>\n",
       "</div>"
      ],
      "text/plain": [
       "                          Circuit            Type       Direction  \\\n",
       "0         Adelaide Street Circuit  Street circuit       Clockwise   \n",
       "1                Ain-Diab Circuit    Road circuit       Clockwise   \n",
       "2    Aintree Motor Racing Circuit    Road circuit       Clockwise   \n",
       "3           Albert Park Circuit *  Street circuit       Clockwise   \n",
       "4   Algarve International Circuit    Race circuit       Clockwise   \n",
       "..                            ...             ...             ...   \n",
       "72                TI Circuit Aida    Race circuit       Clockwise   \n",
       "73        Valencia Street Circuit  Street circuit       Clockwise   \n",
       "74     Watkins Glen International    Race circuit       Clockwise   \n",
       "75           Yas Marina Circuit *    Race circuit  Anti-clockwise   \n",
       "76               Zeltweg Airfield    Road circuit       Clockwise   \n",
       "\n",
       "        Location               Country     Last length used Turns  \\\n",
       "0       Adelaide             Australia  3.780 km (2.349 mi)    16   \n",
       "1     Casablanca               Morocco  7.618 km (4.734 mi)    18   \n",
       "2        Aintree        United Kingdom  4.828 km (3.000 mi)    12   \n",
       "3      Melbourne             Australia  5.278 km (3.280 mi)    16   \n",
       "4       Portimão              Portugal  4.653 km (2.891 mi)    15   \n",
       "..           ...                   ...                  ...   ...   \n",
       "72      Mimasaka                 Japan  3.703 km (2.301 mi)    11   \n",
       "73      Valencia                 Spain  5.419 km (3.367 mi)    25   \n",
       "74  Watkins Glen         United States  5.430 km (3.374 mi)    10   \n",
       "75     Abu Dhabi  United Arab Emirates  5.281 km (3.281 mi)    15   \n",
       "76       Zeltweg               Austria  3.186 km (1.980 mi)     4   \n",
       "\n",
       "                 Grands Prix                    Season(s) Grands Prix held  \n",
       "0      Australian Grand Prix                    1985–1995               11  \n",
       "1        Moroccan Grand Prix                         1958                1  \n",
       "2         British Grand Prix  1955, 1957, 1959, 1961–1962                5  \n",
       "3      Australian Grand Prix         1996–2019, 2022–2025               28  \n",
       "4      Portuguese Grand Prix                    2020–2021                2  \n",
       "..                       ...                          ...              ...  \n",
       "72        Pacific Grand Prix                    1994–1995                2  \n",
       "73       European Grand Prix                    2008–2012                5  \n",
       "74  United States Grand Prix                    1961–1980               20  \n",
       "75      Abu Dhabi Grand Prix                    2009–2024               16  \n",
       "76       Austrian Grand Prix                         1964                1  \n",
       "\n",
       "[77 rows x 10 columns]"
      ]
     },
     "execution_count": 51,
     "metadata": {},
     "output_type": "execute_result"
    }
   ],
   "source": [
    "df"
   ]
  },
  {
   "cell_type": "markdown",
   "id": "6a992762-7f34-400b-9a42-938fb38bf7c7",
   "metadata": {},
   "source": [
    "df = df.drop(columns=['','Grands Prix held'])"
   ]
  },
  {
   "cell_type": "code",
   "execution_count": null,
   "id": "2fc3a444-e377-4655-9618-68124a9ec5c9",
   "metadata": {},
   "outputs": [],
   "source": []
  }
 ],
 "metadata": {
  "kernelspec": {
   "display_name": "Python 3 (ipykernel)",
   "language": "python",
   "name": "python3"
  },
  "language_info": {
   "codemirror_mode": {
    "name": "ipython",
    "version": 3
   },
   "file_extension": ".py",
   "mimetype": "text/x-python",
   "name": "python",
   "nbconvert_exporter": "python",
   "pygments_lexer": "ipython3",
   "version": "3.9.12"
  }
 },
 "nbformat": 4,
 "nbformat_minor": 5
}
